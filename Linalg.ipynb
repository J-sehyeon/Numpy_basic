{
 "cells": [
  {
   "cell_type": "markdown",
   "id": "688e82d7",
   "metadata": {},
   "source": [
    "### Making the function of `np.linalg` and analyzing\n",
    "> I'll study about the Theorems that i studied in 'Linear Algebra' class "
   ]
  },
  {
   "cell_type": "code",
   "execution_count": 9,
   "id": "a5326b52",
   "metadata": {},
   "outputs": [],
   "source": [
    "import numpy as np"
   ]
  },
  {
   "cell_type": "markdown",
   "id": "3745c7df",
   "metadata": {},
   "source": [
    "#### Random Matrix"
   ]
  },
  {
   "cell_type": "code",
   "execution_count": 10,
   "id": "fae059a0",
   "metadata": {},
   "outputs": [],
   "source": [
    "# Making the random matrix within 1 and 2 dimension\n",
    "\n",
    "def new_m(m, n, min=-100, max=101):\n",
    "    return np.random.randint(min, max, (m, n), dtype='int16')"
   ]
  },
  {
   "cell_type": "markdown",
   "id": "52dbec27",
   "metadata": {},
   "source": [
    "### Function; checking the matrix whether it is a triangular or symmetric, and making a diagoanl\n",
    "> Only based on it's definition, not on other theorems like determinant"
   ]
  },
  {
   "cell_type": "markdown",
   "id": "1e599a18",
   "metadata": {},
   "source": [
    "#### Upper triangular"
   ]
  },
  {
   "cell_type": "code",
   "execution_count": 11,
   "id": "01ebe9a1",
   "metadata": {},
   "outputs": [],
   "source": [
    "# Upper triangular: for all 0 <= i, j < n, i > j ; a[i][j] == 0\n",
    "\n",
    "def ut(arr):\n",
    "    if arr.shape == (1,):\n",
    "        return True\n",
    "    flag = False        # flag를 통해 행렬 내부에 삼각행렬의 정의에 위반되는 원소가 존재하는지 찾는다.\n",
    "    n, _ = arr.shape    # Upper triangular는 n x n 행렬에서 정의된다.\n",
    "\n",
    "    for j in range(n):\n",
    "        if flag:\n",
    "            break       # 반복문에서 flag의 값이 True로 변했다면 더이상 조건문을 돌릴 필요가 없다.\n",
    "        for i in range(j + 1, n):\n",
    "            if arr[i][j] != 0:      # arr의 i행 j열 원소 ; (i, j)th entry of a matrix, arr\n",
    "                flag = True         # Upper triangular의 정의 조건에 위배될 때 flag = True\n",
    "    if flag:\n",
    "        return False    \n",
    "    return True"
   ]
  },
  {
   "cell_type": "code",
   "execution_count": 12,
   "id": "72fcad51",
   "metadata": {},
   "outputs": [
    {
     "name": "stdout",
     "output_type": "stream",
     "text": [
      "True\n"
     ]
    }
   ],
   "source": [
    "test_sample = np.array([[1, 2, 3], [0, 2, 3], [0, 0, 1]])\n",
    "print(ut(test_sample))"
   ]
  },
  {
   "cell_type": "markdown",
   "id": "8a49a01d",
   "metadata": {},
   "source": [
    "Lower Triangular의 함수도 같은 방식으로 선언된다."
   ]
  },
  {
   "cell_type": "markdown",
   "id": "7feaa63f",
   "metadata": {},
   "source": [
    "#### Symmetric"
   ]
  },
  {
   "cell_type": "code",
   "execution_count": 31,
   "id": "9a265849",
   "metadata": {},
   "outputs": [
    {
     "name": "stdout",
     "output_type": "stream",
     "text": [
      "True\n"
     ]
    }
   ],
   "source": [
    "# Symmetric: for all 0 <= i, j < n ; a[i][j] == a[j][i] ; which is a transpose of given matrix\n",
    "\n",
    "def sym(arr):\n",
    "    if arr.shape == (1,):\n",
    "        return True                     # shape이 (1,)인 행렬(1 x 1)은 원소와 관계없이 정방행렬이다.\n",
    "    n, m = arr.shape\n",
    "    if n != m:\n",
    "        return False                    # 정방행렬이 아닌 경우 제거                  \n",
    "    \n",
    "    for i in range(n):\n",
    "        for j in range(i + 1, n):       # 모든 (i, j)를 둘러볼 필요가 없다.\n",
    "            if arr[i][j] != arr[j][i]:\n",
    "                return False            # flag보다 더 효율적인 방식이다.\n",
    "    return True                         # for문이 중간에 끊기지 않음 = 주어진 행렬이 symmetric이다.\n",
    "\n",
    "arr = np.array([[1, 2], [2, 4]])\n",
    "print(sym(arr))\n"
   ]
  },
  {
   "cell_type": "markdown",
   "id": "02e53f0e",
   "metadata": {},
   "source": [
    "#### Diagonal"
   ]
  },
  {
   "cell_type": "code",
   "execution_count": 14,
   "id": "6f0a04f8",
   "metadata": {},
   "outputs": [
    {
     "name": "stdout",
     "output_type": "stream",
     "text": [
      "[[ 53  76 -56]\n",
      " [-78  69 -79]\n",
      " [ 18 -29  72]]\n",
      "[53 69 72]\n"
     ]
    }
   ],
   "source": [
    "# np.linalg.diagonal()가 존재한다.\n",
    "\n",
    "arr = new_m(3, 3)\n",
    "print(arr)\n",
    "print(np.linalg.diagonal(arr))"
   ]
  },
  {
   "cell_type": "code",
   "execution_count": 32,
   "id": "77a02493",
   "metadata": {},
   "outputs": [],
   "source": [
    "# diagonal을 구하는 함수를 만들어 보았다.\n",
    "\n",
    "def dia(mat):      \n",
    "    if type(mat) != np.ndarray:         # mat의 클래스를 확인하고 예외처리\n",
    "        raise TypeError(\"please give the <class 'numpy.dnarray'>\") \n",
    "    res = []\n",
    "    \n",
    "    for i in range(min(mat.shape)):     # 주어진 함수가 n x n이 아닌 경우를 고려하여 반복수 조정정\n",
    "        res.append(mat[i][i])           # diagonal의 정의에 따라 행과 열의 인덱스가 같은 원소 추출\n",
    "\n",
    "    return np.array(res)            # numpy.ndarray 클래스로 출력한다."
   ]
  },
  {
   "cell_type": "code",
   "execution_count": 16,
   "id": "d11c8ddb",
   "metadata": {},
   "outputs": [
    {
     "name": "stdout",
     "output_type": "stream",
     "text": [
      "[1 4]\n"
     ]
    }
   ],
   "source": [
    "# 클래스 예외처리 시험\n",
    "\n",
    "print(dia(np.array([[1, 2], [3, 4]])))\n",
    "# print(dia([1, 2]))"
   ]
  },
  {
   "cell_type": "markdown",
   "id": "332621b7",
   "metadata": {},
   "source": [
    "> 성능 비교"
   ]
  },
  {
   "cell_type": "code",
   "execution_count": 33,
   "id": "9f636fbc",
   "metadata": {},
   "outputs": [
    {
     "name": "stdout",
     "output_type": "stream",
     "text": [
      "[[-59  93  26 ...  99  77 -16]\n",
      " [-34  89 -92 ... -17 100   4]\n",
      " [ 77  90 -57 ...  93 -48  40]\n",
      " ...\n",
      " [-84  64   6 ...  76 -21 -68]\n",
      " [ 72  61  25 ...  22 -58 -90]\n",
      " [ 65  30  18 ...  77 -45 -14]]\n"
     ]
    }
   ],
   "source": [
    "# 시간 측정을 위한 test_sample 추출\n",
    "\n",
    "test_sample = new_m(100, 100)\n",
    "print(test_sample)"
   ]
  },
  {
   "cell_type": "code",
   "execution_count": 34,
   "id": "6e53ac9e",
   "metadata": {},
   "outputs": [
    {
     "name": "stdout",
     "output_type": "stream",
     "text": [
      "10.8 μs ± 43.8 ns per loop (mean ± std. dev. of 7 runs, 100,000 loops each)\n"
     ]
    }
   ],
   "source": [
    "%%timeit\n",
    "\n",
    "dia(test_sample)"
   ]
  },
  {
   "cell_type": "code",
   "execution_count": 35,
   "id": "636047df",
   "metadata": {},
   "outputs": [
    {
     "name": "stdout",
     "output_type": "stream",
     "text": [
      "327 ns ± 0.925 ns per loop (mean ± std. dev. of 7 runs, 1,000,000 loops each)\n"
     ]
    }
   ],
   "source": [
    "%%timeit\n",
    "\n",
    "np.linalg.diagonal(test_sample)"
   ]
  },
  {
   "cell_type": "markdown",
   "id": "485d6b42",
   "metadata": {},
   "source": [
    "`dia()` 와 `np.linalg.diagonal()`의 성능 차이(시간)가 대략 30배이다. "
   ]
  },
  {
   "cell_type": "markdown",
   "id": "13059e30",
   "metadata": {},
   "source": [
    "#### Optimization using ChatGPT"
   ]
  },
  {
   "cell_type": "markdown",
   "id": "780b1057",
   "metadata": {},
   "source": [
    ">#### Suggestion <br>\n",
    "\n",
    "1. `type(mat) != np.ndarray` &ensp; `type` 비교는 서브클래스 놓침 &ensp; `isinstance(mat, np.ndarray)` 사용<br>\n",
    "2. `for + append` &ensp; 느린 루프 방식 &ensp;\t벡터화된 `NumPy` 함수 사용<br>\n",
    "3. `np.array(res)`\t&ensp; 한 번 리스트 → 배열 &ensp; 처음부터 `NumPy` 배열 방식으로 계산\n"
   ]
  },
  {
   "cell_type": "code",
   "execution_count": 20,
   "id": "5e540027",
   "metadata": {},
   "outputs": [],
   "source": [
    "def dia_optimized(mat):\n",
    "    if not isinstance(mat, np.ndarray):\n",
    "        raise TypeError(\"Input must be a numpy.ndarray\")\n",
    "\n",
    "    m, n = mat.shape\n",
    "    idx = np.arange(min(m, n))      # 인덱스 배열 생성\n",
    "    return mat[idx, idx]            # Numpy의 브로드캐스팅 인덱싱"
   ]
  },
  {
   "cell_type": "code",
   "execution_count": 21,
   "id": "2cdb7e67",
   "metadata": {},
   "outputs": [
    {
     "data": {
      "text/plain": [
       "array([ True,  True,  True,  True,  True,  True,  True,  True,  True,\n",
       "        True,  True,  True,  True,  True,  True,  True,  True,  True,\n",
       "        True,  True,  True,  True,  True,  True,  True,  True,  True,\n",
       "        True,  True,  True,  True,  True,  True,  True,  True,  True,\n",
       "        True,  True,  True,  True,  True,  True,  True,  True,  True,\n",
       "        True,  True,  True,  True,  True,  True,  True,  True,  True,\n",
       "        True,  True,  True,  True,  True,  True,  True,  True,  True,\n",
       "        True,  True,  True,  True,  True,  True,  True,  True,  True,\n",
       "        True,  True,  True,  True,  True,  True,  True,  True,  True,\n",
       "        True,  True,  True,  True,  True,  True,  True,  True,  True,\n",
       "        True,  True,  True,  True,  True,  True,  True,  True,  True,\n",
       "        True])"
      ]
     },
     "execution_count": 21,
     "metadata": {},
     "output_type": "execute_result"
    }
   ],
   "source": [
    "# dia_optimized 오류 확인\n",
    "dia_optimized(test_sample) == np.linalg.diagonal(test_sample)"
   ]
  },
  {
   "cell_type": "markdown",
   "id": "7aaf4225",
   "metadata": {},
   "source": [
    "> 성능 비교"
   ]
  },
  {
   "cell_type": "code",
   "execution_count": 36,
   "id": "28e39b54",
   "metadata": {},
   "outputs": [
    {
     "name": "stdout",
     "output_type": "stream",
     "text": [
      "857 ns ± 4.52 ns per loop (mean ± std. dev. of 7 runs, 1,000,000 loops each)\n"
     ]
    }
   ],
   "source": [
    "%%timeit\n",
    "\n",
    "dia_optimized(test_sample)"
   ]
  },
  {
   "cell_type": "code",
   "execution_count": 44,
   "id": "a354bf73",
   "metadata": {},
   "outputs": [
    {
     "name": "stdout",
     "output_type": "stream",
     "text": [
      "@array_function_dispatch(_diagonal_dispatcher)\n",
      "def diagonal(x, /, *, offset=0):\n",
      "    \"\"\"\n",
      "    Returns specified diagonals of a matrix (or a stack of matrices) ``x``.\n",
      "\n",
      "    This function is Array API compatible, contrary to\n",
      "    :py:func:`numpy.diagonal`, the matrix is assumed\n",
      "    to be defined by the last two dimensions.\n",
      "\n",
      "    Parameters\n",
      "    ----------\n",
      "    x : (...,M,N) array_like\n",
      "        Input array having shape (..., M, N) and whose innermost two\n",
      "        dimensions form MxN matrices.\n",
      "    offset : int, optional\n",
      "        Offset specifying the off-diagonal relative to the main diagonal,\n",
      "        where::\n",
      "\n",
      "            * offset = 0: the main diagonal.\n",
      "            * offset > 0: off-diagonal above the main diagonal.\n",
      "            * offset < 0: off-diagonal below the main diagonal.\n",
      "\n",
      "    Returns\n",
      "    -------\n",
      "    out : (...,min(N,M)) ndarray\n",
      "        An array containing the diagonals and whose shape is determined by\n",
      "        removing the last two dimensions and appending a dimension equal to\n",
      "        the size of the resulting diagonals. The returned array must have\n",
      "        the same data type as ``x``.\n",
      "\n",
      "    See Also\n",
      "    --------\n",
      "    numpy.diagonal\n",
      "\n",
      "    Examples\n",
      "    --------\n",
      "    >>> a = np.arange(4).reshape(2, 2); a\n",
      "    array([[0, 1],\n",
      "           [2, 3]])\n",
      "    >>> np.linalg.diagonal(a)\n",
      "    array([0, 3])\n",
      "\n",
      "    A 3-D example:\n",
      "\n",
      "    >>> a = np.arange(8).reshape(2, 2, 2); a\n",
      "    array([[[0, 1],\n",
      "            [2, 3]],\n",
      "           [[4, 5],\n",
      "            [6, 7]]])\n",
      "    >>> np.linalg.diagonal(a)\n",
      "    array([[0, 3],\n",
      "           [4, 7]])\n",
      "\n",
      "    Diagonals adjacent to the main diagonal can be obtained by using the\n",
      "    `offset` argument:\n",
      "\n",
      "    >>> a = np.arange(9).reshape(3, 3)\n",
      "    >>> a\n",
      "    array([[0, 1, 2],\n",
      "           [3, 4, 5],\n",
      "           [6, 7, 8]])\n",
      "    >>> np.linalg.diagonal(a, offset=1)  # First superdiagonal\n",
      "    array([1, 5])\n",
      "    >>> np.linalg.diagonal(a, offset=2)  # Second superdiagonal\n",
      "    array([2])\n",
      "    >>> np.linalg.diagonal(a, offset=-1)  # First subdiagonal\n",
      "    array([3, 7])\n",
      "    >>> np.linalg.diagonal(a, offset=-2)  # Second subdiagonal\n",
      "    array([6])\n",
      "\n",
      "    The anti-diagonal can be obtained by reversing the order of elements\n",
      "    using either `numpy.flipud` or `numpy.fliplr`.\n",
      "\n",
      "    >>> a = np.arange(9).reshape(3, 3)\n",
      "    >>> a\n",
      "    array([[0, 1, 2],\n",
      "           [3, 4, 5],\n",
      "           [6, 7, 8]])\n",
      "    >>> np.linalg.diagonal(np.fliplr(a))  # Horizontal flip\n",
      "    array([2, 4, 6])\n",
      "    >>> np.linalg.diagonal(np.flipud(a))  # Vertical flip\n",
      "    array([6, 4, 2])\n",
      "\n",
      "    Note that the order in which the diagonal is retrieved varies depending\n",
      "    on the flip function.\n",
      "\n",
      "    \"\"\"\n",
      "    return _core_diagonal(x, offset, axis1=-2, axis2=-1)\n",
      "\n"
     ]
    }
   ],
   "source": [
    "import inspect\n",
    "\n",
    "print(inspect.getsource(np.linalg.diagonal))"
   ]
  }
 ],
 "metadata": {
  "kernelspec": {
   "display_name": "virtualenv_1",
   "language": "python",
   "name": "python3"
  },
  "language_info": {
   "codemirror_mode": {
    "name": "ipython",
    "version": 3
   },
   "file_extension": ".py",
   "mimetype": "text/x-python",
   "name": "python",
   "nbconvert_exporter": "python",
   "pygments_lexer": "ipython3",
   "version": "3.13.2"
  }
 },
 "nbformat": 4,
 "nbformat_minor": 5
}
