{
 "cells": [
  {
   "cell_type": "markdown",
   "id": "688e82d7",
   "metadata": {},
   "source": [
    "### Making the function of `np.linalg` and analyzing\n",
    "> I'll study about the Theorems that i studied in 'Linear Algebra' class "
   ]
  },
  {
   "cell_type": "code",
   "execution_count": 18,
   "id": "a5326b52",
   "metadata": {},
   "outputs": [],
   "source": [
    "import numpy as np"
   ]
  },
  {
   "cell_type": "markdown",
   "id": "3745c7df",
   "metadata": {},
   "source": [
    "#### Random Matrix"
   ]
  },
  {
   "cell_type": "code",
   "execution_count": 28,
   "id": "fae059a0",
   "metadata": {},
   "outputs": [
    {
     "name": "stdout",
     "output_type": "stream",
     "text": [
      "[[  9  16  48  -9  30 -92  80 -83 -92  92]\n",
      " [-66  20 -37 -77  38  59  38  88  53 -87]\n",
      " [  2 -93 -65 -75  27   1 -78 -97  57   9]\n",
      " [ 69  71 -11 -21  76 -42  47 -15 -75 -61]\n",
      " [  5 -38  44   1 -96  87 -23  35 -87  70]\n",
      " [ 27  92   1 -36  79  75  -7 -88  16 -38]\n",
      " [ 52 -96 -21  65 -35 -90  98  38 -73   5]\n",
      " [ 97 -52 -92 -74 -36  95  39  18 -77  98]\n",
      " [ 58  13  97  13  95  58 -78  65  86  45]\n",
      " [ 50  37  13 -76 -22   6 -55  29   9   4]]\n"
     ]
    }
   ],
   "source": [
    "# Making the random matrix within 1 and 2 dimension\n",
    "def new_m(min=-100, max=101):\n",
    "    m, n = map(int, input().split())\n",
    "\n",
    "    return np.random.randint(min, max, (m, n), dtype='int16')\n",
    "print(new_m())"
   ]
  },
  {
   "cell_type": "markdown",
   "id": "52dbec27",
   "metadata": {},
   "source": [
    "### Function checking the matrix whether it is a triangular or symmetric or diagoanl\n",
    "> Only based on it's definition, not on other theorems like determinant"
   ]
  },
  {
   "cell_type": "code",
   "execution_count": 20,
   "id": "01ebe9a1",
   "metadata": {},
   "outputs": [
    {
     "name": "stdout",
     "output_type": "stream",
     "text": [
      "True\n"
     ]
    }
   ],
   "source": [
    "# Upper triangular: for all 0 <= i, j < n, i > j ; a[i][j] == 0\n",
    "\n",
    "def ut(arr):\n",
    "    if arr.shape == (1,):\n",
    "        return True\n",
    "    flag = False        # flag를 통해 행렬 내부에 삼각행렬의 정의에 위반되는 원소가 존재하는지 찾는다.\n",
    "    n, _ = arr.shape    # Upper triangular는 n x n 행렬에서 정의된다.\n",
    "\n",
    "    for j in range(n):\n",
    "        if flag:\n",
    "            break       # 반복문에서 flag의 값이 True로 변했다면 더이상 조건문을 돌릴 필요가 없다.\n",
    "        for i in range(j + 1, n):\n",
    "            if arr[i][j] != 0:      # arr의 i행 j열 원소 ; (i, j)th entry of a matrix, arr\n",
    "                flag = True         # Upper triangular의 정의 조건에 위배될 때 flag = True\n",
    "    if flag:\n",
    "        return False    \n",
    "    return True\n",
    "\n",
    "arr = np.array([0])\n",
    "print(ut(arr))\n",
    "            \n"
   ]
  },
  {
   "cell_type": "markdown",
   "id": "8a49a01d",
   "metadata": {},
   "source": [
    "Lower Triangular의 함수도 같은 방식으로 선언된다."
   ]
  },
  {
   "cell_type": "code",
   "execution_count": 21,
   "id": "9a265849",
   "metadata": {},
   "outputs": [
    {
     "name": "stdout",
     "output_type": "stream",
     "text": [
      "True\n"
     ]
    }
   ],
   "source": [
    "# Symmetric: for all 0 <= i, j < n ; a[i][j] == a[j][i] ; which is a transpose of given matrix\n",
    "\n",
    "def sym(arr):\n",
    "    if arr.shape == (1,):\n",
    "        return True\n",
    "    n, _ = arr.shape\n",
    "    for i in range(n):\n",
    "        for j in range(i + 1, n):       # 모든 (i, j)를 둘러볼 필요가 없다.\n",
    "            if arr[i][j] != arr[j][i]:\n",
    "                return False            # flag보다 더 효율적인 방식이다.\n",
    "    return True                         # for문이 중간에 끊기지 않음 = 주어진 행렬이 symmetric이다.\n",
    "\n",
    "arr = np.array([[0, 0], [0, 1]])\n",
    "print(sym(arr))\n"
   ]
  },
  {
   "cell_type": "code",
   "execution_count": null,
   "id": "6f0a04f8",
   "metadata": {},
   "outputs": [
    {
     "name": "stdout",
     "output_type": "stream",
     "text": [
      "[[ 79 -70]\n",
      " [ -3  99]\n",
      " [-11 -99]\n",
      " [ 65   0]\n",
      " [ 43 -33]]\n",
      "[79 99]\n"
     ]
    }
   ],
   "source": [
    "arr = new_m()\n",
    "print(arr)\n",
    "print(np.linalg.diagonal(arr))\n",
    "np.linalg.diagonal()"
   ]
  },
  {
   "cell_type": "code",
   "execution_count": 22,
   "id": "16064cbb",
   "metadata": {},
   "outputs": [
    {
     "name": "stdout",
     "output_type": "stream",
     "text": [
      "[0.]\n",
      "(1,)\n"
     ]
    }
   ],
   "source": [
    "# test\n",
    "\n",
    "arr = np.zeros(1)\n",
    "print(arr)\n",
    "print(arr.shape)"
   ]
  },
  {
   "cell_type": "code",
   "execution_count": 23,
   "id": "31a455b8",
   "metadata": {},
   "outputs": [
    {
     "name": "stdout",
     "output_type": "stream",
     "text": [
      "CPU times: total: 609 ms\n",
      "Wall time: 614 ms\n"
     ]
    },
    {
     "data": {
      "text/plain": [
       "False"
      ]
     },
     "execution_count": 23,
     "metadata": {},
     "output_type": "execute_result"
    }
   ],
   "source": [
    "%%time\n",
    "\n",
    "arr = np.random.randint(-100, 101, (10000, 10000), dtype='int16')\n",
    "\n",
    "sym(arr)  # 실행할 함수\n"
   ]
  }
 ],
 "metadata": {
  "kernelspec": {
   "display_name": "ve_1_kernel",
   "language": "python",
   "name": "virtualenv_1"
  },
  "language_info": {
   "codemirror_mode": {
    "name": "ipython",
    "version": 3
   },
   "file_extension": ".py",
   "mimetype": "text/x-python",
   "name": "python",
   "nbconvert_exporter": "python",
   "pygments_lexer": "ipython3",
   "version": "3.11.11"
  }
 },
 "nbformat": 4,
 "nbformat_minor": 5
}
