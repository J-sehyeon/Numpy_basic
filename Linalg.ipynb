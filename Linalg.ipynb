{
 "cells": [
  {
   "cell_type": "markdown",
   "id": "688e82d7",
   "metadata": {},
   "source": [
    "### Making the function of `np.linalg` and analyzing\n",
    "> I'll study about the Theorems that i studied in 'Linear Algebra' class "
   ]
  },
  {
   "cell_type": "code",
   "execution_count": 2,
   "id": "a5326b52",
   "metadata": {},
   "outputs": [],
   "source": [
    "import numpy as np"
   ]
  },
  {
   "cell_type": "markdown",
   "id": "3745c7df",
   "metadata": {},
   "source": [
    "#### Random Matrix"
   ]
  },
  {
   "cell_type": "code",
   "execution_count": null,
   "id": "fae059a0",
   "metadata": {},
   "outputs": [
    {
     "name": "stdout",
     "output_type": "stream",
     "text": [
      "[[ 34]\n",
      " [-21]\n",
      " [ 28]\n",
      " [ 75]]\n"
     ]
    }
   ],
   "source": [
    "# Making the random matrix within 1 and 2 dimension\n",
    "m, n = map(int, input().split())\n",
    "\n",
    "arr = np.random.randint(-100, 101, (m, n), dtype='int16')\n",
    "print(arr)\n"
   ]
  },
  {
   "cell_type": "markdown",
   "id": "52dbec27",
   "metadata": {},
   "source": [
    "### Function checking the matrix whether it is a triangular or symmetric or diagoanl\n",
    "> Only based on it's definition, not on other theorems like determinant"
   ]
  },
  {
   "cell_type": "code",
   "execution_count": 28,
   "id": "01ebe9a1",
   "metadata": {},
   "outputs": [
    {
     "name": "stdout",
     "output_type": "stream",
     "text": [
      "True\n"
     ]
    }
   ],
   "source": [
    "# Upper triangular: for all 0 <= i, j < n, i > j ; a[i][j] == 0\n",
    "\n",
    "def ut(arr):\n",
    "    if arr.shape == (1,):\n",
    "        return True\n",
    "    flag = False        # flag를 통해 행렬 내부에 삼각행렬의 정의에 위반되는 원소가 존재하는지 찾는다.\n",
    "    n, _ = arr.shape    # Upper triangular는 n x n 행렬에서 정의된다.\n",
    "\n",
    "    for j in range(n):\n",
    "        if flag:\n",
    "            break       # 반복문에서 flag의 값이 True로 변했다면 더이상 조건문을 돌릴 필요가 없다.\n",
    "        for i in range(j + 1, n):\n",
    "            if arr[i][j] != 0:      # arr의 i행 j열 원소 ; (i, j)th entry of a matrix, arr\n",
    "                flag = True         # Upper triangular의 정의 조건에 위배될 때 flag = True\n",
    "    if flag:\n",
    "        return False    \n",
    "    return True\n",
    "\n",
    "arr = np.array([0])\n",
    "print(ut(arr))\n",
    "            \n"
   ]
  },
  {
   "cell_type": "markdown",
   "id": "8a49a01d",
   "metadata": {},
   "source": [
    "Lower Triangular의 함수도 같은 방식으로 선언된다."
   ]
  },
  {
   "cell_type": "code",
   "execution_count": null,
   "id": "9a265849",
   "metadata": {},
   "outputs": [
    {
     "name": "stdout",
     "output_type": "stream",
     "text": [
      "True\n"
     ]
    }
   ],
   "source": [
    "# Symmetric: for all 0 <= i, j < n ; a[i][j] == a[j][i] ; which is a transpose of given matrix\n",
    "\n",
    "def sym(arr):\n",
    "    if arr.shape == (1,):\n",
    "        return True\n",
    "    n, _ = arr.shape\n",
    "    for i in range(n):\n",
    "        for j in range(i + 1, n):       # 모든 (i, j)를 둘러볼 필요가 없다.\n",
    "            if arr[i][j] != arr[j][i]:\n",
    "                return False            # flag보다 더 효율적인 방식이다.\n",
    "    return True                         # for문이 중간에 끊기지 않음 = 주어진 행렬이 symmetric이다.\n",
    "\n",
    "arr = np.array([[0, 0], [0, 1]])\n",
    "print(sym(arr))\n"
   ]
  },
  {
   "cell_type": "code",
   "execution_count": 27,
   "id": "16064cbb",
   "metadata": {},
   "outputs": [
    {
     "name": "stdout",
     "output_type": "stream",
     "text": [
      "[0.]\n",
      "(1,)\n"
     ]
    }
   ],
   "source": [
    "# test\n",
    "\n",
    "arr = np.zeros(1)\n",
    "print(arr)\n",
    "print(arr.shape)"
   ]
  }
 ],
 "metadata": {
  "kernelspec": {
   "display_name": "ve_1_kernel",
   "language": "python",
   "name": "virtualenv_1"
  },
  "language_info": {
   "codemirror_mode": {
    "name": "ipython",
    "version": 3
   },
   "file_extension": ".py",
   "mimetype": "text/x-python",
   "name": "python",
   "nbconvert_exporter": "python",
   "pygments_lexer": "ipython3",
   "version": "3.11.11"
  }
 },
 "nbformat": 4,
 "nbformat_minor": 5
}
