{
 "cells": [
  {
   "cell_type": "markdown",
   "id": "688e82d7",
   "metadata": {},
   "source": [
    "### Making the function of `np.linalg` and analyzing\n",
    "> I'll study about the Theorems that i studied in 'Linear Algebra' class "
   ]
  },
  {
   "cell_type": "code",
   "execution_count": 2,
   "id": "a5326b52",
   "metadata": {},
   "outputs": [],
   "source": [
    "import numpy as np"
   ]
  },
  {
   "cell_type": "markdown",
   "id": "3745c7df",
   "metadata": {},
   "source": [
    "#### Random Matrix"
   ]
  },
  {
   "cell_type": "code",
   "execution_count": 93,
   "id": "fae059a0",
   "metadata": {},
   "outputs": [],
   "source": [
    "# Making the random matrix within 1 and 2 dimension\n",
    "\n",
    "def new_m(m, n, min=-100, max=101):\n",
    "    return np.random.randint(min, max, (m, n), dtype='int16')"
   ]
  },
  {
   "cell_type": "markdown",
   "id": "52dbec27",
   "metadata": {},
   "source": [
    "### Function; checking the matrix whether it is a triangular or symmetric, and making a diagoanl\n",
    "> Only based on it's definition, not on other theorems like determinant"
   ]
  },
  {
   "cell_type": "markdown",
   "id": "1e599a18",
   "metadata": {},
   "source": [
    "#### Upper triangular"
   ]
  },
  {
   "cell_type": "code",
   "execution_count": 94,
   "id": "01ebe9a1",
   "metadata": {},
   "outputs": [],
   "source": [
    "# Upper triangular: for all 0 <= i, j < n, i > j ; a[i][j] == 0\n",
    "\n",
    "def ut(arr):\n",
    "    if arr.shape == (1,):\n",
    "        return True\n",
    "    flag = False        # flag를 통해 행렬 내부에 삼각행렬의 정의에 위반되는 원소가 존재하는지 찾는다.\n",
    "    n, _ = arr.shape    # Upper triangular는 n x n 행렬에서 정의된다.\n",
    "\n",
    "    for j in range(n):\n",
    "        if flag:\n",
    "            break       # 반복문에서 flag의 값이 True로 변했다면 더이상 조건문을 돌릴 필요가 없다.\n",
    "        for i in range(j + 1, n):\n",
    "            if arr[i][j] != 0:      # arr의 i행 j열 원소 ; (i, j)th entry of a matrix, arr\n",
    "                flag = True         # Upper triangular의 정의 조건에 위배될 때 flag = True\n",
    "    if flag:\n",
    "        return False    \n",
    "    return True"
   ]
  },
  {
   "cell_type": "code",
   "execution_count": 99,
   "id": "72fcad51",
   "metadata": {},
   "outputs": [
    {
     "name": "stdout",
     "output_type": "stream",
     "text": [
      "True\n"
     ]
    }
   ],
   "source": [
    "test_sample = np.array([[1, 2, 3], [0, 2, 3], [0, 0, 1]])\n",
    "print(ut(test_sample))"
   ]
  },
  {
   "cell_type": "markdown",
   "id": "8a49a01d",
   "metadata": {},
   "source": [
    "Lower Triangular의 함수도 같은 방식으로 선언된다."
   ]
  },
  {
   "cell_type": "markdown",
   "id": "7feaa63f",
   "metadata": {},
   "source": [
    "#### Symmetric"
   ]
  },
  {
   "cell_type": "code",
   "execution_count": null,
   "id": "9a265849",
   "metadata": {},
   "outputs": [
    {
     "name": "stdout",
     "output_type": "stream",
     "text": [
      "True\n"
     ]
    }
   ],
   "source": [
    "# Symmetric: for all 0 <= i, j < n ; a[i][j] == a[j][i] ; which is a transpose of given matrix\n",
    "\n",
    "def sym(arr):\n",
    "    if arr.shape == (1,):           ############ 정방행렬이 아닌 경우 제거\n",
    "        return True\n",
    "    n, _ = arr.shape\n",
    "    for i in range(n):\n",
    "        for j in range(i + 1, n):       # 모든 (i, j)를 둘러볼 필요가 없다.\n",
    "            if arr[i][j] != arr[j][i]:\n",
    "                return False            # flag보다 더 효율적인 방식이다.\n",
    "    return True                         # for문이 중간에 끊기지 않음 = 주어진 행렬이 symmetric이다.\n",
    "\n",
    "arr = np.array([[0, 0], [0, 1]])\n",
    "print(sym(arr))\n"
   ]
  },
  {
   "cell_type": "markdown",
   "id": "02e53f0e",
   "metadata": {},
   "source": [
    "#### Diagonal"
   ]
  },
  {
   "cell_type": "code",
   "execution_count": 10,
   "id": "6f0a04f8",
   "metadata": {},
   "outputs": [
    {
     "name": "stdout",
     "output_type": "stream",
     "text": [
      "[[-78 -73  83]\n",
      " [ 13  20 -37]\n",
      " [ 47  91 -99]]\n",
      "[-78  20 -99]\n"
     ]
    }
   ],
   "source": [
    "# np.linalg.diagonal()가 존재한다.\n",
    "\n",
    "arr = new_m(3, 3)\n",
    "print(arr)\n",
    "print(np.linalg.diagonal(arr))"
   ]
  },
  {
   "cell_type": "code",
   "execution_count": null,
   "id": "77a02493",
   "metadata": {},
   "outputs": [],
   "source": [
    "# 직접 diagonal을 구하는 함수를 만들어 보았다.\n",
    "\n",
    "def dia(mat):      \n",
    "    if type(mat) != np.ndarray:         # mat의 클래스를 확인하고 예외처리\n",
    "        raise TypeError(\"please give the <class 'numpy.dnarray'>\") \n",
    "    res = []\n",
    "    \n",
    "    for i in range(min(mat.shape)):     # 주어진 함수가 n x n이 아닌 경우를 고려하여 반복수 조정정\n",
    "        res.append(mat[i][i])           # diagonal의 정의에 따라 행과 열의 인덱스가 같은 원소 추출\n",
    "\n",
    "    return np.array(res)            # numpy.ndarray 클래스로 출력한다.\n",
    "\n",
    "    "
   ]
  },
  {
   "cell_type": "code",
   "execution_count": 76,
   "id": "d11c8ddb",
   "metadata": {},
   "outputs": [
    {
     "name": "stdout",
     "output_type": "stream",
     "text": [
      "[1 4]\n"
     ]
    },
    {
     "ename": "TypeError",
     "evalue": "please give the <class 'numpy.dnarray'>",
     "output_type": "error",
     "traceback": [
      "\u001b[1;31m---------------------------------------------------------------------------\u001b[0m",
      "\u001b[1;31mTypeError\u001b[0m                                 Traceback (most recent call last)",
      "Cell \u001b[1;32mIn[76], line 4\u001b[0m\n\u001b[0;32m      1\u001b[0m \u001b[38;5;66;03m# 클래스 예외처리 시험\u001b[39;00m\n\u001b[0;32m      3\u001b[0m \u001b[38;5;28mprint\u001b[39m(dia(np\u001b[38;5;241m.\u001b[39marray([[\u001b[38;5;241m1\u001b[39m, \u001b[38;5;241m2\u001b[39m], [\u001b[38;5;241m3\u001b[39m, \u001b[38;5;241m4\u001b[39m]])))\n\u001b[1;32m----> 4\u001b[0m \u001b[38;5;28mprint\u001b[39m(\u001b[43mdia\u001b[49m\u001b[43m(\u001b[49m\u001b[43m[\u001b[49m\u001b[38;5;241;43m1\u001b[39;49m\u001b[43m,\u001b[49m\u001b[43m \u001b[49m\u001b[38;5;241;43m2\u001b[39;49m\u001b[43m]\u001b[49m\u001b[43m)\u001b[49m)\n",
      "Cell \u001b[1;32mIn[39], line 5\u001b[0m, in \u001b[0;36mdia\u001b[1;34m(mat)\u001b[0m\n\u001b[0;32m      3\u001b[0m \u001b[38;5;28;01mdef\u001b[39;00m\u001b[38;5;250m \u001b[39m\u001b[38;5;21mdia\u001b[39m(mat):      \n\u001b[0;32m      4\u001b[0m     \u001b[38;5;28;01mif\u001b[39;00m \u001b[38;5;28mtype\u001b[39m(mat) \u001b[38;5;241m!=\u001b[39m np\u001b[38;5;241m.\u001b[39mndarray:      \u001b[38;5;66;03m# mat의 클래스를 확인하고 예외처리\u001b[39;00m\n\u001b[1;32m----> 5\u001b[0m         \u001b[38;5;28;01mraise\u001b[39;00m \u001b[38;5;167;01mTypeError\u001b[39;00m(\u001b[38;5;124m\"\u001b[39m\u001b[38;5;124mplease give the <class \u001b[39m\u001b[38;5;124m'\u001b[39m\u001b[38;5;124mnumpy.dnarray\u001b[39m\u001b[38;5;124m'\u001b[39m\u001b[38;5;124m>\u001b[39m\u001b[38;5;124m\"\u001b[39m) \n\u001b[0;32m      6\u001b[0m     res \u001b[38;5;241m=\u001b[39m []\n\u001b[0;32m      8\u001b[0m     \u001b[38;5;28;01mfor\u001b[39;00m i \u001b[38;5;129;01min\u001b[39;00m \u001b[38;5;28mrange\u001b[39m(\u001b[38;5;28mmin\u001b[39m(mat\u001b[38;5;241m.\u001b[39mshape)):     \u001b[38;5;66;03m# 주어진 함수가 n x n이 아닌 경우를 고려하여 반복수 조정정\u001b[39;00m\n",
      "\u001b[1;31mTypeError\u001b[0m: please give the <class 'numpy.dnarray'>"
     ]
    }
   ],
   "source": [
    "# 클래스 예외처리 시험\n",
    "\n",
    "print(dia(np.array([[1, 2], [3, 4]])))\n",
    "print(dia([1, 2]))"
   ]
  },
  {
   "cell_type": "markdown",
   "id": "332621b7",
   "metadata": {},
   "source": [
    "> 성능 비교"
   ]
  },
  {
   "cell_type": "code",
   "execution_count": null,
   "id": "9f636fbc",
   "metadata": {},
   "outputs": [
    {
     "name": "stdout",
     "output_type": "stream",
     "text": [
      "[[ 46 -29   3 ... -21 -94  87]\n",
      " [-16 -60 -38 ...  35 -97  -7]\n",
      " [-75  11  26 ... -34  89  38]\n",
      " ...\n",
      " [ 93  66 -30 ... -46 -76 -11]\n",
      " [ 55 -91  -4 ...  58  53  31]\n",
      " [-12  34  49 ... -48 -10  16]]\n"
     ]
    }
   ],
   "source": [
    "# 시간 측정을 위한 test_sample 추출\n",
    "\n",
    "test_sample = new_m(100, 100)\n",
    "print(test_sample)"
   ]
  },
  {
   "cell_type": "code",
   "execution_count": 62,
   "id": "6e53ac9e",
   "metadata": {},
   "outputs": [
    {
     "name": "stdout",
     "output_type": "stream",
     "text": [
      "24.7 μs ± 1.07 μs per loop (mean ± std. dev. of 7 runs, 10,000 loops each)\n"
     ]
    }
   ],
   "source": [
    "%%timeit\n",
    "\n",
    "dia(test_sample)"
   ]
  },
  {
   "cell_type": "code",
   "execution_count": null,
   "id": "636047df",
   "metadata": {},
   "outputs": [
    {
     "name": "stdout",
     "output_type": "stream",
     "text": [
      "1.1 μs ± 23.6 ns per loop (mean ± std. dev. of 7 runs, 1,000,000 loops each)\n"
     ]
    }
   ],
   "source": [
    "%%timeit\n",
    "\n",
    "np.linalg.diagonal(test_sample)"
   ]
  },
  {
   "cell_type": "markdown",
   "id": "485d6b42",
   "metadata": {},
   "source": [
    "`dia()` 와 `np.linalg.diagonal()`의 성능 차이(시간)가 대략 20배이다. "
   ]
  },
  {
   "cell_type": "markdown",
   "id": "13059e30",
   "metadata": {},
   "source": [
    "#### Optimization using ChatGPT"
   ]
  },
  {
   "cell_type": "markdown",
   "id": "780b1057",
   "metadata": {},
   "source": [
    ">#### Suggestion <br>\n",
    "\n",
    "1. `type(mat) != np.ndarray` &ensp; `type` 비교는 서브클래스 놓침 &ensp; `isinstance(mat, np.ndarray)` 사용<br>\n",
    "2. `for + append` &ensp; 느린 루프 방식 &ensp;\t벡터화된 `NumPy` 함수 사용<br>\n",
    "3. `np.array(res)`\t&ensp; 한 번 리스트 → 배열 &ensp; 처음부터 `NumPy` 배열 방식으로 계산\n"
   ]
  },
  {
   "cell_type": "code",
   "execution_count": null,
   "id": "5e540027",
   "metadata": {},
   "outputs": [],
   "source": [
    "def dia_optimized(mat):\n",
    "    if not isinstance(mat, np.ndarray):\n",
    "        raise TypeError(\"Input must be a numpy.ndarray\")\n",
    "\n",
    "    m, n = mat.shape\n",
    "    idx = np.arange(min(m, n))      # 인덱스 배열 생성\n",
    "    return mat[idx, idx]            # Numpy의 브로드캐스팅 인덱싱"
   ]
  },
  {
   "cell_type": "code",
   "execution_count": null,
   "id": "2cdb7e67",
   "metadata": {},
   "outputs": [
    {
     "data": {
      "text/plain": [
       "array([ True,  True,  True,  True,  True,  True,  True,  True,  True,\n",
       "        True,  True,  True,  True,  True,  True,  True,  True,  True,\n",
       "        True,  True,  True,  True,  True,  True,  True,  True,  True,\n",
       "        True,  True,  True,  True,  True,  True,  True,  True,  True,\n",
       "        True,  True,  True,  True,  True,  True,  True,  True,  True,\n",
       "        True,  True,  True,  True,  True,  True,  True,  True,  True,\n",
       "        True,  True,  True,  True,  True,  True,  True,  True,  True,\n",
       "        True,  True,  True,  True,  True,  True,  True,  True,  True,\n",
       "        True,  True,  True,  True,  True,  True,  True,  True,  True,\n",
       "        True,  True,  True,  True,  True,  True,  True,  True,  True,\n",
       "        True,  True,  True,  True,  True,  True,  True,  True,  True,\n",
       "        True])"
      ]
     },
     "execution_count": 90,
     "metadata": {},
     "output_type": "execute_result"
    }
   ],
   "source": [
    "# dia_optimized 오류 확인\n",
    "dia_optimized(test_sample) == np.linalg.diagonal(test_sample)"
   ]
  },
  {
   "cell_type": "markdown",
   "id": "7aaf4225",
   "metadata": {},
   "source": [
    "> 성능 비교"
   ]
  },
  {
   "cell_type": "code",
   "execution_count": 92,
   "id": "28e39b54",
   "metadata": {},
   "outputs": [
    {
     "name": "stdout",
     "output_type": "stream",
     "text": [
      "2.37 μs ± 70.3 ns per loop (mean ± std. dev. of 7 runs, 100,000 loops each)\n"
     ]
    }
   ],
   "source": [
    "%%timeit\n",
    "\n",
    "dia_optimized(test_sample)"
   ]
  }
 ],
 "metadata": {
  "kernelspec": {
   "display_name": "ve_1_kernel",
   "language": "python",
   "name": "virtualenv_1"
  },
  "language_info": {
   "codemirror_mode": {
    "name": "ipython",
    "version": 3
   },
   "file_extension": ".py",
   "mimetype": "text/x-python",
   "name": "python",
   "nbconvert_exporter": "python",
   "pygments_lexer": "ipython3",
   "version": "3.11.11"
  }
 },
 "nbformat": 4,
 "nbformat_minor": 5
}
